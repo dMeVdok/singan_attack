{
 "cells": [
  {
   "cell_type": "code",
   "execution_count": null,
   "metadata": {},
   "outputs": [],
   "source": [
    "from matplotlib.image import imread, imsave\n",
    "import matplotlib.pyplot as plt\n",
    "import matplotlib\n",
    "import numpy as np"
   ]
  },
  {
   "cell_type": "markdown",
   "metadata": {},
   "source": [
    "### Отменить все изменения в исходной картинке"
   ]
  },
  {
   "cell_type": "code",
   "execution_count": null,
   "metadata": {},
   "outputs": [],
   "source": [
    "!cp ./Input/Images/kocherga32_backup.jpg ./Input/Images/kocherga32.jpg"
   ]
  },
  {
   "cell_type": "markdown",
   "metadata": {},
   "source": [
    "### Загрузить исходную картинку"
   ]
  },
  {
   "cell_type": "code",
   "execution_count": null,
   "metadata": {},
   "outputs": [],
   "source": [
    "image = imread(\"./Input/Images/kocherga32.jpg\")"
   ]
  },
  {
   "cell_type": "markdown",
   "metadata": {},
   "source": [
    "### Изменить исходную картинку"
   ]
  },
  {
   "cell_type": "code",
   "execution_count": null,
   "metadata": {},
   "outputs": [],
   "source": [
    "image = image*0"
   ]
  },
  {
   "cell_type": "markdown",
   "metadata": {},
   "source": [
    "### Сохранить исходную картинку"
   ]
  },
  {
   "cell_type": "code",
   "execution_count": null,
   "metadata": {},
   "outputs": [],
   "source": [
    "original_backup = imread(\"./Input/Images/kocherga32_backup.jpg\")\n",
    "\n",
    "imsave(\"./Input/Images/kocherga32.jpg\", image)\n",
    "image = imread(\"./Input/Images/kocherga32.jpg\")\n",
    "\n",
    "print(\"You transformed up to\", np.sqrt(np.sum(((image-original_backup)**2))/(64*64)),\"RMSE\")\n",
    "print(\"You transformed up to\", np.sum(((image!=original_backup))),\"NEQ\")"
   ]
  },
  {
   "cell_type": "markdown",
   "metadata": {},
   "source": [
    "### Повысить разрешение исходной картинки с помощью SinGAN "
   ]
  },
  {
   "cell_type": "code",
   "execution_count": null,
   "metadata": {},
   "outputs": [],
   "source": [
    "!python3 SR.py --input_name kocherga32.jpg --not_cuda --sr_factor 2"
   ]
  },
  {
   "cell_type": "markdown",
   "metadata": {},
   "source": [
    "### Посчитать и визуализировать ошибку"
   ]
  },
  {
   "cell_type": "code",
   "execution_count": null,
   "metadata": {},
   "outputs": [],
   "source": [
    "original_backup = imread(\"./Input/Images/kocherga32_backup.jpg\")\n",
    "original_transformed = imread(\"./Input/Images/kocherga32.jpg\")\n",
    "\n",
    "inner_rms = np.sqrt(np.sum(((original_backup-original_transformed)**2))/(64*64))\n",
    "inner_neq = np.sum(((original_backup!=original_transformed)))\n",
    "\n",
    "hr = imread(\"./Output/SR/2.0/kocherga32_HR.png\")[:,:,:3]\n",
    "true = imread(\"./Input/Images/kocherga64.jpg\")\n",
    "\n",
    "matplotlib.rcParams['figure.figsize'] = (10,10)\n",
    "\n",
    "print(\"You scored \",(np.sqrt(np.sum(((hr-true)**2))/(64*64))) / inner_rms,\"RMSE/changes_RMSE\")\n",
    "print(\"You scored \",round((np.sum(((hr!=true)))) / inner_neq,2),\"NEQ/changes_NEQ\")\n",
    "print(\"RMSE\",np.sqrt(np.sum(((hr-true)**2))/(64*64)))\n",
    "print(\"NEQ\",np.sum(((hr!=true))))\n",
    "\n",
    "plt.imshow(true)\n",
    "plt.title(\"True\")\n",
    "plt.figure()\n",
    "\n",
    "plt.imshow(hr)\n",
    "plt.title(\"Reconstructed\")\n",
    "plt.figure()\n",
    "\n",
    "plt.imshow(((hr-true)**2),cmap=\"Reds\")\n",
    "plt.title(\"(Reconstructed-True)^2\")\n",
    "plt.figure()\n",
    "\n",
    "plt.imshow(((hr[:,:,0]!=true[:,:,0])).astype(int),cmap=\"Reds\")\n",
    "plt.title(\"Reconstructed != True, Red channel\")\n",
    "plt.figure()\n",
    "\n",
    "plt.imshow(((hr[:,:,1]!=true[:,:,1])).astype(int),cmap=\"Greens\")\n",
    "plt.title(\"Reconstructed != True, Green channel\")\n",
    "plt.figure()\n",
    "\n",
    "plt.imshow(((hr[:,:,2]!=true[:,:,2])).astype(int),cmap=\"Blues\")\n",
    "plt.title(\"Reconstructed != True, Blue channel\")\n",
    "plt.figure()\n"
   ]
  }
 ],
 "metadata": {
  "kernelspec": {
   "display_name": "Python 3",
   "language": "python",
   "name": "python3"
  },
  "language_info": {
   "codemirror_mode": {
    "name": "ipython",
    "version": 3
   },
   "file_extension": ".py",
   "mimetype": "text/x-python",
   "name": "python",
   "nbconvert_exporter": "python",
   "pygments_lexer": "ipython3",
   "version": "3.6.9"
  }
 },
 "nbformat": 4,
 "nbformat_minor": 2
}
